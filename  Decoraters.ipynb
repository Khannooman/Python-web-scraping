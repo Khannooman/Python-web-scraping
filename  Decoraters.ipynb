{
 "cells": [
  {
   "cell_type": "code",
   "execution_count": 16,
   "id": "6742baca",
   "metadata": {},
   "outputs": [
    {
     "data": {
      "text/plain": [
       "1"
      ]
     },
     "execution_count": 16,
     "metadata": {},
     "output_type": "execute_result"
    }
   ],
   "source": [
    "arr = [1,2,8,9,6,4,1,5,4,5,7,8,6,1,2,5,1,5,1,2]\n",
    "dic = {}\n",
    "for i in arr:\n",
    "    if i in dic:\n",
    "        dic[i]+=1\n",
    "    else:\n",
    "        dic[i]=1\n",
    "number , repetition = max(dic.items(),key = lambda x:x[1])\n",
    "number"
   ]
  },
  {
   "cell_type": "markdown",
   "id": "b9cd5fe9",
   "metadata": {},
   "source": [
    "##### Decoraters\n",
    "A decorator in Python is a function that takes another function as its argument, and returns yet another function. Decorators can be extremely useful as they allow the extension of an existing function, without any modification to the original function source code.\n",
    "\n"
   ]
  },
  {
   "cell_type": "code",
   "execution_count": 25,
   "id": "1d04ef3f",
   "metadata": {},
   "outputs": [
    {
     "data": {
      "text/plain": [
       "[3, 7, 11, 15, 19]"
      ]
     },
     "execution_count": 25,
     "metadata": {},
     "output_type": "execute_result"
    }
   ],
   "source": [
    "def decoraters(func):\n",
    "    def inner(list_of_tupels):\n",
    "        return [func(i,j) for i,j in list_of_tupels]\n",
    "    return inner\n",
    "\n",
    "@decoraters\n",
    "def add(a,b):\n",
    "    return a+b\n",
    "\n",
    "add([(1,2),(3,4),(5,6),(7,8),(9,10)])\n",
    "    \n",
    "    \n",
    "    "
   ]
  },
  {
   "cell_type": "code",
   "execution_count": 38,
   "id": "816dfff9",
   "metadata": {},
   "outputs": [
    {
     "data": {
      "text/plain": [
       "[1, 1, 1, 1, 1, 1, 1, 1, 1, 1]"
      ]
     },
     "execution_count": 38,
     "metadata": {},
     "output_type": "execute_result"
    }
   ],
   "source": [
    "# make a function which give operation between two list using decoaters\n",
    "\n",
    "def decoraters(func):\n",
    "    def list_element(lis1, lis2):\n",
    "        return [func(i,j) for i,j in zip(lis1,lis2)]\n",
    "    return list_element\n",
    "\n",
    "\n",
    "@decoraters\n",
    "def add(a,b):\n",
    "    return a+b\n",
    "add([1,2,3,4,5,6,7,8,9,10],[1,2,3,4,5,6,7,8,9,10])\n",
    "\n",
    "@decoraters\n",
    "def mul(a,b):\n",
    "    return a*b\n",
    "mul([1,2,3,4,5,6,7,8,9,10],[1,2,3,4,5,6,7,8,9,10])\n",
    "\n",
    "@decoraters\n",
    "def minus(a,b):\n",
    "    return a-b\n",
    "minus([1,2,3,4,5,6,7,8,9,10],[1,2,3,4,5,6,7,8,9,10])\n",
    "\n",
    "@decoraters\n",
    "def divide(a,b):\n",
    "    return a//b\n",
    "divide([1,2,3,4,5,6,7,8,9,10],[1,2,3,4,5,6,7,8,9,10])\n",
    "\n",
    "\n",
    "\n"
   ]
  },
  {
   "cell_type": "code",
   "execution_count": 44,
   "id": "3c168ff6",
   "metadata": {},
   "outputs": [
    {
     "data": {
      "text/plain": [
       "[1,\n",
       " 1024,\n",
       " 59049,\n",
       " 1048576,\n",
       " 9765625,\n",
       " 60466176,\n",
       " 282475249,\n",
       " 1073741824,\n",
       " 3486784401,\n",
       " 10000000000]"
      ]
     },
     "execution_count": 44,
     "metadata": {},
     "output_type": "execute_result"
    }
   ],
   "source": [
    "# within a decoraters we decoraters itself\n",
    "def main_decoraters(power):\n",
    "    def decoraters(func):\n",
    "        def list_element(lis1, lis2):\n",
    "            return [func(i,j)**power for i,j in zip(lis1,lis2)]\n",
    "        return list_element\n",
    "    return decoraters\n",
    "\n",
    "\n",
    "@main_decoraters(2)\n",
    "def add(a,b):\n",
    "    return a+b\n",
    "add([1,2,3,4,5,6,7,8,9,10],[1,2,3,4,5,6,7,8,9,10])\n",
    "\n",
    "@main_decoraters(5)\n",
    "def mul(a,b):\n",
    "    return a*b\n",
    "mul([1,2,3,4,5,6,7,8,9,10],[1,2,3,4,5,6,7,8,9,10])\n",
    "\n"
   ]
  }
 ],
 "metadata": {
  "kernelspec": {
   "display_name": "Python 3 (ipykernel)",
   "language": "python",
   "name": "python3"
  },
  "language_info": {
   "codemirror_mode": {
    "name": "ipython",
    "version": 3
   },
   "file_extension": ".py",
   "mimetype": "text/x-python",
   "name": "python",
   "nbconvert_exporter": "python",
   "pygments_lexer": "ipython3",
   "version": "3.9.12"
  }
 },
 "nbformat": 4,
 "nbformat_minor": 5
}
