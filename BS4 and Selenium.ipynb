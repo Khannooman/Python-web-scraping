{
 "cells": [
  {
   "cell_type": "code",
   "execution_count": 1,
   "id": "14c9d212",
   "metadata": {},
   "outputs": [
    {
     "name": "stdout",
     "output_type": "stream",
     "text": [
      "399\n",
      "Life Is Short (2016)\n",
      "http://paulgraham.com/vb.html\n"
     ]
    }
   ],
   "source": [
    "# most tranding news on hacker rank\n",
    "from bs4 import BeautifulSoup\n",
    "import requests\n",
    "response = requests.get(\"https://news.ycombinator.com/\")\n",
    "yc_webpage = response.text\n",
    "soup = BeautifulSoup(yc_webpage,\"html.parser\" )\n",
    "tag = soup.find_all(name = \"span\" , class_ = \"titleline\")\n",
    "article_text = []\n",
    "article_link = []\n",
    "for i in tag:\n",
    "    text = i.find(name=\"a\").get_text()\n",
    "    article_text.append(text)\n",
    "    link = i.find(name=\"a\").get(\"href\")\n",
    "    article_link.append(link)\n",
    "upvotes = [int(i.get_text().split()[0]) for i in soup.find_all(name = \"span\" , class_ = \"score\")]\n",
    "\n",
    "import pandas as pd\n",
    "df = pd.DataFrame(list(zip(article_text,article_link,upvotes)) , columns=['text','link','upvotes'])\n",
    "# df.to_csv(\"Hacker_news.csv\")\n",
    "\n",
    "print(max(upvotes))\n",
    "print(article_text[upvotes.index(max(upvotes))])\n",
    "print(article_link[upvotes.index(max(upvotes))])"
   ]
  },
  {
   "cell_type": "code",
   "execution_count": 2,
   "id": "f14910b2",
   "metadata": {},
   "outputs": [],
   "source": [
    "# Top 100 Movies For all time\n",
    "from bs4 import BeautifulSoup\n",
    "import pandas as pd\n",
    "import lxml\n",
    "import requests\n",
    "URL = \"https://www.imdb.com/list/ls055592025/\"\n",
    "response = requests.get(URL)\n",
    "web_html = response.text\n",
    "soup = BeautifulSoup(web_html , \"html.parser\")\n",
    "tag = soup.find_all(name = \"h3\",class_ = \"lister-item-header\")\n",
    "movie_rank = []\n",
    "movie_name = []\n",
    "movie_year = []\n",
    "for i in tag:\n",
    "    rank = i.find(name = \"span\",class_=\"lister-item-index unbold text-primary\").get_text()\n",
    "    movie_rank.append(int(rank.replace(\".\",\"\")))\n",
    "    Name = i.find(\"a\").get_text()\n",
    "    movie_name.append(Name)\n",
    "    Year = i.find(name = \"span\",class_=\"lister-item-year text-muted unbold\").get_text()\n",
    "    movie_year.append(Year)\n",
    "df = pd.DataFrame(list(zip(movie_rank,movie_name,movie_year)),columns=[\"Rank\",\"Title\",\"Year\"])"
   ]
  },
  {
   "cell_type": "code",
   "execution_count": 3,
   "id": "b04ea0f1",
   "metadata": {},
   "outputs": [
    {
     "data": {
      "text/html": [
       "<div>\n",
       "<style scoped>\n",
       "    .dataframe tbody tr th:only-of-type {\n",
       "        vertical-align: middle;\n",
       "    }\n",
       "\n",
       "    .dataframe tbody tr th {\n",
       "        vertical-align: top;\n",
       "    }\n",
       "\n",
       "    .dataframe thead th {\n",
       "        text-align: right;\n",
       "    }\n",
       "</style>\n",
       "<table border=\"1\" class=\"dataframe\">\n",
       "  <thead>\n",
       "    <tr style=\"text-align: right;\">\n",
       "      <th></th>\n",
       "      <th>Rank</th>\n",
       "      <th>Title</th>\n",
       "      <th>Year</th>\n",
       "    </tr>\n",
       "  </thead>\n",
       "  <tbody>\n",
       "    <tr>\n",
       "      <th>0</th>\n",
       "      <td>1</td>\n",
       "      <td>The Godfather</td>\n",
       "      <td>(1972)</td>\n",
       "    </tr>\n",
       "    <tr>\n",
       "      <th>1</th>\n",
       "      <td>2</td>\n",
       "      <td>The Shawshank Redemption</td>\n",
       "      <td>(1994)</td>\n",
       "    </tr>\n",
       "    <tr>\n",
       "      <th>2</th>\n",
       "      <td>3</td>\n",
       "      <td>Schindler's List</td>\n",
       "      <td>(1993)</td>\n",
       "    </tr>\n",
       "    <tr>\n",
       "      <th>3</th>\n",
       "      <td>4</td>\n",
       "      <td>Raging Bull</td>\n",
       "      <td>(1980)</td>\n",
       "    </tr>\n",
       "    <tr>\n",
       "      <th>4</th>\n",
       "      <td>5</td>\n",
       "      <td>Casablanca</td>\n",
       "      <td>(1942)</td>\n",
       "    </tr>\n",
       "    <tr>\n",
       "      <th>...</th>\n",
       "      <td>...</td>\n",
       "      <td>...</td>\n",
       "      <td>...</td>\n",
       "    </tr>\n",
       "    <tr>\n",
       "      <th>95</th>\n",
       "      <td>96</td>\n",
       "      <td>Rear Window</td>\n",
       "      <td>(1954)</td>\n",
       "    </tr>\n",
       "    <tr>\n",
       "      <th>96</th>\n",
       "      <td>97</td>\n",
       "      <td>The Third Man</td>\n",
       "      <td>(1949)</td>\n",
       "    </tr>\n",
       "    <tr>\n",
       "      <th>97</th>\n",
       "      <td>98</td>\n",
       "      <td>Rebel Without a Cause</td>\n",
       "      <td>(1955)</td>\n",
       "    </tr>\n",
       "    <tr>\n",
       "      <th>98</th>\n",
       "      <td>99</td>\n",
       "      <td>North by Northwest</td>\n",
       "      <td>(1959)</td>\n",
       "    </tr>\n",
       "    <tr>\n",
       "      <th>99</th>\n",
       "      <td>100</td>\n",
       "      <td>Yankee Doodle Dandy</td>\n",
       "      <td>(1942)</td>\n",
       "    </tr>\n",
       "  </tbody>\n",
       "</table>\n",
       "<p>100 rows × 3 columns</p>\n",
       "</div>"
      ],
      "text/plain": [
       "    Rank                     Title    Year\n",
       "0      1             The Godfather  (1972)\n",
       "1      2  The Shawshank Redemption  (1994)\n",
       "2      3          Schindler's List  (1993)\n",
       "3      4               Raging Bull  (1980)\n",
       "4      5                Casablanca  (1942)\n",
       "..   ...                       ...     ...\n",
       "95    96               Rear Window  (1954)\n",
       "96    97             The Third Man  (1949)\n",
       "97    98     Rebel Without a Cause  (1955)\n",
       "98    99        North by Northwest  (1959)\n",
       "99   100       Yankee Doodle Dandy  (1942)\n",
       "\n",
       "[100 rows x 3 columns]"
      ]
     },
     "execution_count": 3,
     "metadata": {},
     "output_type": "execute_result"
    }
   ],
   "source": [
    "df"
   ]
  },
  {
   "cell_type": "code",
   "execution_count": 4,
   "id": "aa20adce",
   "metadata": {},
   "outputs": [
    {
     "name": "stderr",
     "output_type": "stream",
     "text": [
      "C:\\Users\\NOOMAN KHAN\\AppData\\Local\\Temp\\ipykernel_12108\\991515528.py:8: DeprecationWarning: executable_path has been deprecated, please pass in a Service object\n",
      "  driver = webdriver.Chrome(executable_path=crhome_driver_path)\n"
     ]
    }
   ],
   "source": [
    "# Automatic find python page from Wikipidia\n",
    "from selenium import webdriver\n",
    "from selenium.webdriver.common import keys\n",
    "from selenium.webdriver.common.by import By\n",
    "from selenium.webdriver.common.keys import Keys\n",
    "\n",
    "crhome_driver_path = \"C:\\Devlopement\\chromedriver.exe\"\n",
    "driver = webdriver.Chrome(executable_path=crhome_driver_path)\n",
    "driver.get(\"https://en.wikipedia.org/wiki/Main_Page\")\n",
    "article_count = driver.find_element(By.CSS_SELECTOR, '#articlecount a')\n",
    "# article_count.click()\n",
    "search = driver.find_element(By.NAME, \"search\")\n",
    "search.send_keys(\"python\")\n",
    "search.send_keys(Keys.ENTER)"
   ]
  },
  {
   "cell_type": "code",
   "execution_count": null,
   "id": "fd437453",
   "metadata": {},
   "outputs": [],
   "source": [
    "#  Automatic apply for a job on linkedin\n",
    "# at the place of ---------------- fill information\n",
    "# only for easy apply job\n",
    "from selenium import webdriver\n",
    "from selenium.webdriver.common.by import By\n",
    "from selenium.webdriver.common.keys import Keys\n",
    "import time\n",
    "from selenium.common.exceptions import NoSuchElementException\n",
    "\n",
    "\n",
    "chrome_driver_path = \"C:\\Devlopement\\chromedriver.exe\"\n",
    "driver = webdriver.Chrome(executable_path=chrome_driver_path)\n",
    "driver.get(\"https://www.linkedin.com/jobs/search?keywords=Data%20Analyst&location=Mumbai%2C%20Maharashtra%2C%20India&locationId=&geoId=106164952&f_TPR=r86400&distance=25&position=1&pageNum=0\")\n",
    "sighningin = driver.find_element(By.LINK_TEXT,\"Sign in\")\n",
    "sighningin.click()\n",
    "time.sleep(5)\n",
    "email = driver.find_element(By.ID,\"username\")\n",
    "email.send_keys(\"---------------------------\")\n",
    "password = driver.find_element(By.ID,\"password\")\n",
    "password.send_keys(\"----------------\")\n",
    "password.send_keys(Keys.ENTER)\n",
    "\n",
    "# apply = driver.find_element(By.CSS_SELECTOR,\"jobs-apply-button--top-card button\")\n",
    "# apply.click()\n",
    "time.sleep(5)\n",
    "\n",
    "all_listings = driver.find_elements(By.CSS_SELECTOR,\".job-card-container--clickable\")\n",
    "\n",
    "for listing in all_listings:\n",
    "    print(\"called\")\n",
    "    listing.click()\n",
    "    time.sleep(2)\n",
    "    try:\n",
    "        apply_button = driver.find_element(By.CSS_SELECTOR,\".jobs-s-apply button\")\n",
    "        apply_button.click()\n",
    "\n",
    "        time.sleep(5)\n",
    "        phone = driver.find_element(By.CLASS_NAME,\"fb-single-line-text__input\")\n",
    "        if phone.text == \"\":\n",
    "            phone.send_keys(\"-----------------\")\n",
    "        \n",
    "        submit_button = driver.find_element(By.CSS_SELECTOR,\"footer button\")\n",
    "        if submit_button.get_attribute(\"data-control-name\") == \"continue_unify\":\n",
    "            close_button = driver.find_element(By.CLASS_NAME,\"artdeco-modal__dismiss\")\n",
    "            close_button.click()\n",
    "            \n",
    "            time.sleep(2)\n",
    "            discard_button = driver.find_elements(By.CLASS_NAME,\"artdeco-modal__confirm-dialog-btn\")[1]\n",
    "            discard_button.click()\n",
    "            print(\"Complex application, skipped.\")\n",
    "            continue\n",
    "        else:\n",
    "            submit_button.click()\n",
    "\n",
    "        time.sleep(2)\n",
    "        close_button = driver.find_element(By.CLASS_NAME,\"artdeco-modal__dismiss\")\n",
    "        close_button.click()\n",
    "\n",
    "    except NoSuchElementException:\n",
    "        print(\"No application button, skipped.\")\n",
    "        continue\n",
    "\n",
    "time.sleep(5)\n",
    "driver.quit()\n",
    "\n",
    "\n"
   ]
  },
  {
   "cell_type": "code",
   "execution_count": 6,
   "id": "b0a71900",
   "metadata": {},
   "outputs": [
    {
     "name": "stdout",
     "output_type": "stream",
     "text": [
      "126\n",
      "5\n",
      "\n"
     ]
    }
   ],
   "source": [
    "nums = list(map(int,input().split()))\n",
    "target = int(input())\n",
    "lis = []\n",
    "\n",
    "for i in range(len(nums)):\n",
    "    for j in range(i+1,len(nums)):\n",
    "        if nums[i]+nums[j]==target:\n",
    "            lis.append([i,j])\n",
    "print(*lis)\n"
   ]
  },
  {
   "cell_type": "markdown",
   "id": "9c10bce7",
   "metadata": {},
   "source": [
    "print fibananci series"
   ]
  },
  {
   "cell_type": "code",
   "execution_count": 14,
   "id": "a55896b5",
   "metadata": {},
   "outputs": [],
   "source": [
    "def fibonanci(n):\n",
    "    lis = [0,1]\n",
    "    for i in range(n-2):\n",
    "        lis.append((lis[-1]+lis[-2]))\n",
    "    print(*lis)"
   ]
  },
  {
   "cell_type": "markdown",
   "id": "0d204c31",
   "metadata": {},
   "source": [
    "`print LCM of 3 number"
   ]
  },
  {
   "cell_type": "code",
   "execution_count": 36,
   "id": "3643c075",
   "metadata": {},
   "outputs": [
    {
     "name": "stdout",
     "output_type": "stream",
     "text": [
      "5 25 125\n",
      "125\n"
     ]
    }
   ],
   "source": [
    "a,b,c = map(int,input().split())\n",
    "if a!=0 and b!=0 and c!=0:\n",
    "    i = 1\n",
    "    while True:\n",
    "        if i%a==0 and i%b==0 and i%c==0:\n",
    "            print(i)\n",
    "            break\n",
    "        else:\n",
    "            i+=1\n",
    "else:\n",
    "    print(0)\n",
    "    \n",
    "    \n",
    "    \n",
    "    \n"
   ]
  },
  {
   "cell_type": "markdown",
   "id": "7fced71f",
   "metadata": {},
   "source": [
    "Print HCF of three 3 Number"
   ]
  },
  {
   "cell_type": "code",
   "execution_count": 33,
   "id": "968cc4cc",
   "metadata": {},
   "outputs": [
    {
     "name": "stdout",
     "output_type": "stream",
     "text": [
      "5 25 125\n",
      "5\n"
     ]
    }
   ],
   "source": [
    "a,b,c = map(int,input().split())\n",
    "for i in range(min(a,b,c),0,-1):\n",
    "    if a%i==0 and b%i==0 and c%i==0:\n",
    "        print(i)\n",
    "        break"
   ]
  },
  {
   "cell_type": "markdown",
   "id": "b0b4c203",
   "metadata": {},
   "source": [
    "Find first and last position of target in a array\n",
    "\n",
    "target = 5\n",
    "\n",
    "array = [1,2,5,5,5,5,4,5,2]"
   ]
  },
  {
   "cell_type": "code",
   "execution_count": 41,
   "id": "35cd436a",
   "metadata": {},
   "outputs": [],
   "source": [
    "array = [1,2,5,5,5,4,5,2]\n",
    "target = 5\n",
    "lis = []\n",
    "for i in range(len(array)):\n",
    "    array.index(target)\n",
    "    "
   ]
  },
  {
   "cell_type": "markdown",
   "id": "da72a046",
   "metadata": {},
   "source": [
    "pattern printings"
   ]
  },
  {
   "cell_type": "markdown",
   "id": "0243ec05",
   "metadata": {},
   "source": [
    "Input: N = 4\n",
    "\n",
    "Output:\n",
    "\n",
    "4 4 4 4 4 4 4\n",
    "\n",
    "4 3 3 3 3 3 4\n",
    "\n",
    "4 3 2 2 2 3 4\n",
    "\n",
    "4 3 2 1 2 3 4\n",
    "\n",
    "4 3 2 2 2 3 4\n",
    "\n",
    "4 3 3 3 3 3 4\n",
    "\n",
    "4 4 4 4 4 4 4"
   ]
  },
  {
   "cell_type": "code",
   "execution_count": 70,
   "id": "bc95e3f6",
   "metadata": {},
   "outputs": [
    {
     "name": "stdout",
     "output_type": "stream",
     "text": [
      "9\n",
      "9 9 9 9 9 9 9 9 9 9 9 9 9 9 9 9 9 \n",
      "9 8 8 8 8 8 8 8 8 8 8 8 8 8 8 8 9 \n",
      "9 8 7 7 7 7 7 7 7 7 7 7 7 7 7 8 9 \n",
      "9 8 7 6 6 6 6 6 6 6 6 6 6 6 7 8 9 \n",
      "9 8 7 6 5 5 5 5 5 5 5 5 5 6 7 8 9 \n",
      "9 8 7 6 5 4 4 4 4 4 4 4 5 6 7 8 9 \n",
      "9 8 7 6 5 4 3 3 3 3 3 4 5 6 7 8 9 \n",
      "9 8 7 6 5 4 3 2 2 2 3 4 5 6 7 8 9 \n",
      "9 8 7 6 5 4 3 2 1 2 3 4 5 6 7 8 9 \n",
      "9 8 7 6 5 4 3 2 2 2 3 4 5 6 7 8 9 \n",
      "9 8 7 6 5 4 3 3 3 3 3 4 5 6 7 8 9 \n",
      "9 8 7 6 5 4 4 4 4 4 4 4 5 6 7 8 9 \n",
      "9 8 7 6 5 5 5 5 5 5 5 5 5 6 7 8 9 \n",
      "9 8 7 6 6 6 6 6 6 6 6 6 6 6 7 8 9 \n",
      "9 8 7 7 7 7 7 7 7 7 7 7 7 7 7 8 9 \n",
      "9 8 8 8 8 8 8 8 8 8 8 8 8 8 8 8 9 \n",
      "9 9 9 9 9 9 9 9 9 9 9 9 9 9 9 9 9 \n"
     ]
    }
   ],
   "source": [
    "N = int(input())\n",
    "for i in range(1,N+1):\n",
    "    for j in range(1,N+1):\n",
    "        min = i if i<j else j\n",
    "        print(N-min+1 , end=\" \")\n",
    "    for j in range(N-1,0,-1):\n",
    "        min = i if i<j else j\n",
    "        print(N-min+1 , end=\" \")\n",
    "    print()\n",
    "    \n",
    "for i in range(N-1,0,-1):\n",
    "    for j in range(1,N+1):\n",
    "        min = i if i<j else j\n",
    "        print(N-min+1 , end=\" \")\n",
    "    for j in range(N-1,0,-1):\n",
    "        min = i if i<j else j\n",
    "        print(N-min+1  ,end=\" \")\n",
    "    print()\n"
   ]
  }
 ],
 "metadata": {
  "kernelspec": {
   "display_name": "Python 3 (ipykernel)",
   "language": "python",
   "name": "python3"
  },
  "language_info": {
   "codemirror_mode": {
    "name": "ipython",
    "version": 3
   },
   "file_extension": ".py",
   "mimetype": "text/x-python",
   "name": "python",
   "nbconvert_exporter": "python",
   "pygments_lexer": "ipython3",
   "version": "3.9.12"
  }
 },
 "nbformat": 4,
 "nbformat_minor": 5
}
