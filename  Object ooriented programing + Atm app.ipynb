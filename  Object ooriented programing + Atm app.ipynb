{
 "cells": [
  {
   "cell_type": "code",
   "execution_count": 25,
   "id": "81341689",
   "metadata": {},
   "outputs": [],
   "source": [
    "\n",
    "\n",
    "# static/class\n",
    "\n",
    "class Atm:\n",
    "    __counter = 1\n",
    "    def  __init__(self): \n",
    "        self.__pin = \"\"\n",
    "        self.__balance = 0\n",
    "        self.sno = Atm.__counter\n",
    "        Atm.__counter+=1\n",
    "        self.menu()\n",
    "    \n",
    "    @staticmethod\n",
    "    def get_counter():\n",
    "        return Atm.__counter\n",
    "    \n",
    "    @staticmethod\n",
    "    def set_counter(new):\n",
    "        if type(new)==int:\n",
    "            Atm.__counter = new    \n",
    "    def get_pin(self):\n",
    "        return self.__pin\n",
    "    \n",
    "    def set_pin(self,new_pin):\n",
    "        if type(new_pin)==str:\n",
    "            self.__pin = new_pin\n",
    "            print(\"pin changed\")\n",
    "        else:\n",
    "            print(\"Something Error\")\n",
    "        \n",
    "    def menu(self):\n",
    "        user_input = input(\"\"\"\"\n",
    "        Hello, how would you like to proceed\n",
    "        1.Enter 1 to create pin\n",
    "        2.Enter 2 to deposit \n",
    "        3.Enter 3 to withdrawii\n",
    "        4.Enter 4 to check balance\n",
    "        5.Enter 5 to exit\n",
    "        \"\"\")\n",
    "        \n",
    "        if user_input==\"1\":\n",
    "            self.create_pin()\n",
    "        elif user_input==\"2\":\n",
    "            self.deposite()\n",
    "        elif user_input==\"3\":\n",
    "            self.withdrawl()\n",
    "        elif user_input==\"4\":\n",
    "            self.check_balance()\n",
    "        elif user_input==\"5\":\n",
    "            self.exit()\n",
    "            \n",
    "    def create_pin(self):\n",
    "        self.__pin = input(\"Enter your pin\")\n",
    "        print(\"Pin set successfully\")\n",
    "        \n",
    "    def deposite(self):\n",
    "        temp = input(\"Enter your pin\")\n",
    "        if temp==self.__pin:\n",
    "            amount = int(input(\"Enter your amount\"))\n",
    "            self.__balance = self.__balance+amount\n",
    "            print(\"Deposite successful\")\n",
    "        else:\n",
    "            print(\"Invalid pin\")\n",
    "    \n",
    "    def withdrawl(self):\n",
    "        temp = input(\"Enter your pin\")\n",
    "        if temp==self.__pin:\n",
    "            amount = int(input(\"Enter your amount\"))\n",
    "            if amount<=self.__balance:\n",
    "                self.balance = self.__balance-amount\n",
    "                print(\"Transaction Successful\")\n",
    "            else:\n",
    "                print(\"Insuffiient Balance\")\n",
    "        else:\n",
    "            print(\"Invalid pin\")\n",
    "    def check_balance(self):\n",
    "        temp = input(\"Enter your pin\")\n",
    "        if temp==self.__pin:\n",
    "            print(f\"Your balance is {self.__balance}\")\n",
    "        else:\n",
    "            print(\"Invalid pin\")\n",
    "    def exit(self):\n",
    "        print(\"Visit again\")\n",
    "        \n",
    "        \n",
    "    "
   ]
  },
  {
   "cell_type": "code",
   "execution_count": 45,
   "id": "75cf47aa",
   "metadata": {},
   "outputs": [],
   "source": [
    "class Atm:\n",
    "    def __init__(self):\n",
    "        self.__pin = \"\"\n",
    "        self.__balance = 0\n",
    "        self.menu()\n",
    "    \n",
    "    def menu(self):\n",
    "        user_input = input(\"\"\"\n",
    "        Hello, how would you like to proceed\n",
    "        1.Enter 1 to create pin\n",
    "        2.Enter 2 to deposit \n",
    "        3.Enter 3 to withdrawl\n",
    "        4.Enter 4 to check balance\n",
    "        5.Enter 5 to exit\n",
    "        \"\"\")\n",
    "        if user_input == \"1\":\n",
    "            self.create_pin()\n",
    "        elif user_input == \"2\":\n",
    "            self.deposit()\n",
    "        elif user_input == \"3\":\n",
    "            self.widthrawl()\n",
    "        elif user_input == \"4\":\n",
    "            self.check_balance()\n",
    "        elif user_input == \"5\":\n",
    "            self.exit()\n",
    "    def create_pin(self):\n",
    "        self.__pin = input(\"Please enter your pin\")\n",
    "        print(\"Pin set succesfull\")\n",
    "    def deposit(self):\n",
    "        temp = input(\"Enter your 4 digit pin\")\n",
    "        if temp == self.__pin:\n",
    "            amount = int(input(\"Put your cash in atm and print Enter\"))\n",
    "            self.__balance+=amount\n",
    "            print(\"Deposite Succeeded\")\n",
    "        else:\n",
    "            print(\"Invalid pin\")\n",
    "            \n",
    "    def widthrawl(self):\n",
    "        temp = input(\"Enter your 4 digit pin\")\n",
    "        if temp == self.__pin:\n",
    "            amount = int(input(\"enter your amount than press enter key\"))\n",
    "            if self.__balance>amount:\n",
    "                self.__balance-=amount\n",
    "                print(\"Transaction succesfull\")\n",
    "            else:\n",
    "                print(\"Insufficient fund\")\n",
    "        else:\n",
    "            print(\"Invalid pin\")\n",
    "            \n",
    "    def check_balance(self):\n",
    "        temp = input(\"Enter your 4 digit pin\")\n",
    "        if temp == self.__pin:\n",
    "            print(f\"Your amount is {self.__balance}\")\n",
    "        else:\n",
    "            print(\"Invalid pin\")\n",
    "            \n",
    "    def exit(self):\n",
    "        print(\"Visit Again\")        "
   ]
  },
  {
   "cell_type": "code",
   "execution_count": null,
   "id": "325ff443",
   "metadata": {},
   "outputs": [],
   "source": []
  },
  {
   "cell_type": "code",
   "execution_count": 46,
   "id": "09badb32",
   "metadata": {},
   "outputs": [
    {
     "name": "stdout",
     "output_type": "stream",
     "text": [
      "\n",
      "        Hello, how would you like to proceed\n",
      "        1.Enter 1 to create pin\n",
      "        2.Enter 2 to deposit \n",
      "        3.Enter 3 to withdrawl\n",
      "        4.Enter 4 to check balance\n",
      "        5.Enter 5 to exit\n",
      "        1\n",
      "Please enter your pin1234\n",
      "Pin set succesfull\n"
     ]
    }
   ],
   "source": [
    "sbi = Atm()\n"
   ]
  },
  {
   "cell_type": "code",
   "execution_count": 49,
   "id": "c15d016a",
   "metadata": {},
   "outputs": [
    {
     "ename": "AttributeError",
     "evalue": "'Atm' object has no attribute 'balance'",
     "output_type": "error",
     "traceback": [
      "\u001b[1;31m---------------------------------------------------------------------------\u001b[0m",
      "\u001b[1;31mAttributeError\u001b[0m                            Traceback (most recent call last)",
      "Cell \u001b[1;32mIn[49], line 1\u001b[0m\n\u001b[1;32m----> 1\u001b[0m \u001b[43msbi\u001b[49m\u001b[38;5;241;43m.\u001b[39;49m\u001b[43mbalance\u001b[49m\n",
      "\u001b[1;31mAttributeError\u001b[0m: 'Atm' object has no attribute 'balance'"
     ]
    }
   ],
   "source": [
    "sbi.balance"
   ]
  },
  {
   "cell_type": "code",
   "execution_count": 36,
   "id": "24905fd4",
   "metadata": {},
   "outputs": [
    {
     "name": "stdout",
     "output_type": "stream",
     "text": [
      "Enter your 4 digit pin1234\n",
      "Your amount is 0\n"
     ]
    }
   ],
   "source": [
    "sbi.check_balance()"
   ]
  },
  {
   "cell_type": "code",
   "execution_count": 37,
   "id": "1a1277cc",
   "metadata": {},
   "outputs": [
    {
     "name": "stdout",
     "output_type": "stream",
     "text": [
      "Enter your 4 digit pin1234\n",
      "Put your cash in atm and print Enter5201556\n",
      "Deposite Succeeded\n"
     ]
    }
   ],
   "source": [
    "sbi.deposit()"
   ]
  },
  {
   "cell_type": "code",
   "execution_count": 38,
   "id": "e7ef18cb",
   "metadata": {},
   "outputs": [
    {
     "name": "stdout",
     "output_type": "stream",
     "text": [
      "Enter your 4 digit pin1234\n",
      "Your amount is 5201556\n"
     ]
    }
   ],
   "source": [
    "sbi.check_balance()"
   ]
  },
  {
   "cell_type": "code",
   "execution_count": 41,
   "id": "967cef6d",
   "metadata": {},
   "outputs": [
    {
     "name": "stdout",
     "output_type": "stream",
     "text": [
      "Enter your 4 digit pin1234\n",
      "enter your amount than press enter key605052\n",
      "Transaction succesfull\n"
     ]
    }
   ],
   "source": [
    "sbi.widthrawl()"
   ]
  },
  {
   "cell_type": "code",
   "execution_count": 42,
   "id": "5907e31d",
   "metadata": {},
   "outputs": [
    {
     "name": "stdout",
     "output_type": "stream",
     "text": [
      "Enter your 4 digit pin1234\n",
      "Your amount is 4596504\n"
     ]
    }
   ],
   "source": [
    "sbi.check_balance()"
   ]
  },
  {
   "cell_type": "code",
   "execution_count": 26,
   "id": "6cf6c6d6",
   "metadata": {},
   "outputs": [
    {
     "name": "stdout",
     "output_type": "stream",
     "text": [
      "\"\n",
      "        Hello, how would you like to proceed\n",
      "        1.Enter 1 to create pin\n",
      "        2.Enter 2 to deposit \n",
      "        3.Enter 3 to withdrawii\n",
      "        4.Enter 4 to check balance\n",
      "        5.Enter 5 to exit\n",
      "        1\n",
      "Enter your pin1234\n",
      "Pin set successfully\n"
     ]
    }
   ],
   "source": [
    "sbi = Atm()"
   ]
  },
  {
   "cell_type": "code",
   "execution_count": 27,
   "id": "5240f921",
   "metadata": {},
   "outputs": [
    {
     "data": {
      "text/plain": [
       "1"
      ]
     },
     "execution_count": 27,
     "metadata": {},
     "output_type": "execute_result"
    }
   ],
   "source": [
    "sbi.sno"
   ]
  },
  {
   "cell_type": "code",
   "execution_count": 28,
   "id": "c793ad3e",
   "metadata": {},
   "outputs": [
    {
     "name": "stdout",
     "output_type": "stream",
     "text": [
      "\"\n",
      "        Hello, how would you like to proceed\n",
      "        1.Enter 1 to create pin\n",
      "        2.Enter 2 to deposit \n",
      "        3.Enter 3 to withdrawii\n",
      "        4.Enter 4 to check balance\n",
      "        5.Enter 5 to exit\n",
      "        1234\n"
     ]
    },
    {
     "data": {
      "text/plain": [
       "2"
      ]
     },
     "execution_count": 28,
     "metadata": {},
     "output_type": "execute_result"
    }
   ],
   "source": [
    "hdfc = Atm()\n",
    "hdfc.sno"
   ]
  },
  {
   "cell_type": "code",
   "execution_count": 30,
   "id": "738b9ce1",
   "metadata": {},
   "outputs": [
    {
     "data": {
      "text/plain": [
       "3"
      ]
     },
     "execution_count": 30,
     "metadata": {},
     "output_type": "execute_result"
    }
   ],
   "source": [
    "hdfc.get_counter()"
   ]
  },
  {
   "cell_type": "code",
   "execution_count": 31,
   "id": "96a13251",
   "metadata": {},
   "outputs": [],
   "source": [
    "hdfc.set_counter(5)"
   ]
  },
  {
   "cell_type": "code",
   "execution_count": 33,
   "id": "4c726e84",
   "metadata": {},
   "outputs": [
    {
     "data": {
      "text/plain": [
       "5"
      ]
     },
     "execution_count": 33,
     "metadata": {},
     "output_type": "execute_result"
    }
   ],
   "source": [
    "hdfc.get_counter()"
   ]
  },
  {
   "cell_type": "code",
   "execution_count": null,
   "id": "c2e61dca",
   "metadata": {},
   "outputs": [],
   "source": [
    "sbi.get_pin()"
   ]
  },
  {
   "cell_type": "code",
   "execution_count": null,
   "id": "df8374fa",
   "metadata": {},
   "outputs": [],
   "source": [
    "sbi.set_pin('1237')"
   ]
  },
  {
   "cell_type": "code",
   "execution_count": null,
   "id": "60f467ee",
   "metadata": {},
   "outputs": [],
   "source": [
    "sbi.balance = 500000"
   ]
  },
  {
   "cell_type": "code",
   "execution_count": null,
   "id": "2c6bc95a",
   "metadata": {},
   "outputs": [],
   "source": [
    "sbi.deposite()"
   ]
  },
  {
   "cell_type": "code",
   "execution_count": null,
   "id": "6b5be167",
   "metadata": {},
   "outputs": [],
   "source": [
    "sbi.check_balance()"
   ]
  },
  {
   "cell_type": "code",
   "execution_count": null,
   "id": "fc15b7f3",
   "metadata": {},
   "outputs": [],
   "source": [
    "id(sbi)"
   ]
  },
  {
   "cell_type": "code",
   "execution_count": null,
   "id": "99ca5637",
   "metadata": {},
   "outputs": [],
   "source": [
    "sbi.deposite()"
   ]
  },
  {
   "cell_type": "code",
   "execution_count": null,
   "id": "22299125",
   "metadata": {},
   "outputs": [],
   "source": [
    "sbi.check_balance()"
   ]
  },
  {
   "cell_type": "code",
   "execution_count": null,
   "id": "cd6be9c8",
   "metadata": {},
   "outputs": [],
   "source": [
    "sbi.withdrawl()"
   ]
  },
  {
   "cell_type": "code",
   "execution_count": null,
   "id": "3bbf0482",
   "metadata": {},
   "outputs": [],
   "source": [
    "sbi.check_balance()"
   ]
  },
  {
   "cell_type": "code",
   "execution_count": null,
   "id": "f35c3522",
   "metadata": {},
   "outputs": [],
   "source": [
    "HDFC = Atm()"
   ]
  },
  {
   "cell_type": "code",
   "execution_count": null,
   "id": "b7525448",
   "metadata": {},
   "outputs": [],
   "source": [
    "id(HDFC)"
   ]
  },
  {
   "cell_type": "code",
   "execution_count": null,
   "id": "f18d1b35",
   "metadata": {},
   "outputs": [],
   "source": [
    "id(sbi)"
   ]
  },
  {
   "cell_type": "markdown",
   "id": "a5072a2c",
   "metadata": {},
   "source": [
    "Create fraction Data type"
   ]
  },
  {
   "cell_type": "code",
   "execution_count": null,
   "id": "90e0e067",
   "metadata": {},
   "outputs": [],
   "source": [
    "class Fraction:\n",
    "    def __init__(self,n,d):\n",
    "        self.num = n\n",
    "        self.den = d\n",
    "# Magic method\n",
    "    def __str__(self):\n",
    "        return f\"{self.num}/{self.den}\"\n",
    "    def __add__(self,other):\n",
    "        temp_num = self.num*other.den+self.den*other.num\n",
    "        temp_den = self.den*other.den\n",
    "        return f\"{temp_num}/{temp_den}\"\n",
    "# magic method\n",
    "    def __sub__(self,other):\n",
    "        temp_num = self.num*other.den-self.den*other.num\n",
    "        temp_den = self.den*other.den\n",
    "        return f\"{temp_num}/{temp_den}\"\n",
    "    def __mul__(self,other):\n",
    "        temp_num = self.num*other.num\n",
    "        temp_den = self.den*other.den\n",
    "        return f\"{temp_num}/{temp_den}\"\n",
    "    def __truediv__(self,other):\n",
    "        temp_num = self.num*other.den\n",
    "        temp_den = self.den*other.num\n",
    "        return f\"{temp_num}/{temp_den}\"\n",
    "\n",
    "        \n",
    "        "
   ]
  },
  {
   "cell_type": "code",
   "execution_count": null,
   "id": "8978600b",
   "metadata": {},
   "outputs": [],
   "source": [
    "x = Fraction(4,5)"
   ]
  },
  {
   "cell_type": "code",
   "execution_count": null,
   "id": "120d82f8",
   "metadata": {},
   "outputs": [],
   "source": [
    "print(x)"
   ]
  },
  {
   "cell_type": "code",
   "execution_count": null,
   "id": "b90eb00b",
   "metadata": {},
   "outputs": [],
   "source": [
    "y = Fraction(5,4)\n",
    "print(y)"
   ]
  },
  {
   "cell_type": "code",
   "execution_count": null,
   "id": "097dd340",
   "metadata": {},
   "outputs": [],
   "source": [
    "print(x+y)"
   ]
  },
  {
   "cell_type": "code",
   "execution_count": null,
   "id": "fbe989e2",
   "metadata": {},
   "outputs": [],
   "source": [
    "print(x-y)"
   ]
  },
  {
   "cell_type": "code",
   "execution_count": null,
   "id": "6ce55328",
   "metadata": {},
   "outputs": [],
   "source": [
    "print(x*y)"
   ]
  },
  {
   "cell_type": "code",
   "execution_count": null,
   "id": "0932ce0b",
   "metadata": {},
   "outputs": [],
   "source": [
    "x*y"
   ]
  },
  {
   "cell_type": "code",
   "execution_count": null,
   "id": "e4bcb826",
   "metadata": {},
   "outputs": [],
   "source": [
    "x-y"
   ]
  },
  {
   "cell_type": "code",
   "execution_count": null,
   "id": "ffebcecc",
   "metadata": {},
   "outputs": [],
   "source": [
    "x/y"
   ]
  },
  {
   "cell_type": "markdown",
   "id": "9615956a",
   "metadata": {},
   "source": [
    "Refrence Variable"
   ]
  },
  {
   "cell_type": "code",
   "execution_count": null,
   "id": "e4f93dad",
   "metadata": {},
   "outputs": [],
   "source": [
    "sbi = Atm()"
   ]
  },
  {
   "cell_type": "code",
   "execution_count": null,
   "id": "e711bfaf",
   "metadata": {},
   "outputs": [],
   "source": [
    "class Customer:\n",
    "    def __init__(self,name):\n",
    "        self.name = name\n",
    "\n",
    "def greet(customer):\n",
    "    print(id(customer))\n",
    "    customer.name = \"Ankita\"\n",
    "    print(customer.name)\n",
    "    print(id(customer))\n",
    "        \n",
    "    \n",
    "cus = Customer(\"Ayesha\")\n",
    "\n",
    "greet(cus)\n",
    "\n"
   ]
  },
  {
   "cell_type": "markdown",
   "id": "0582e039",
   "metadata": {},
   "source": [
    "Class ke object are also mutable like dictionery,list,set "
   ]
  },
  {
   "cell_type": "code",
   "execution_count": null,
   "id": "b40537d2",
   "metadata": {},
   "outputs": [],
   "source": [
    "# Pass by reference\n",
    "def change(L):\n",
    "    print(id(L))\n",
    "    L.append(2)\n",
    "    print(id(L))\n",
    "L1 = [1,2,3,4]\n",
    "print(id(L1))\n",
    "print(L1)\n",
    "\n",
    "change(L1)\n",
    "print(L1)"
   ]
  },
  {
   "cell_type": "code",
   "execution_count": null,
   "id": "07a8ce1c",
   "metadata": {},
   "outputs": [],
   "source": [
    "# pass by reference\n",
    "def change(L):\n",
    "    print(id(L))\n",
    "    L = L+(5,6)\n",
    "    print(id(L))\n",
    "L1 = (1,2,3,4)\n",
    "print(id(L1))\n",
    "print(L1)\n",
    "\n",
    "change(L1)\n",
    "print(L1)"
   ]
  },
  {
   "cell_type": "code",
   "execution_count": null,
   "id": "4615eff4",
   "metadata": {},
   "outputs": [],
   "source": [
    "# collection of object\n",
    "\n",
    "class Customer:\n",
    "    \n",
    "    def __init__(self,name,age):\n",
    "        self.name = name\n",
    "        self.age = age\n",
    "c1 = Customer(\"Nooman\" , 27)\n",
    "c2 = Customer(\"Ayesha\" , 25)\n",
    "c3 = Customer(\"Orhan\" , 1)\n",
    "\n",
    "L = [c1,c2,c3]\n",
    "for i in L:\n",
    "    print(i.name,i.age)"
   ]
  },
  {
   "cell_type": "code",
   "execution_count": null,
   "id": "f37d2a7d",
   "metadata": {},
   "outputs": [],
   "source": []
  },
  {
   "cell_type": "code",
   "execution_count": null,
   "id": "eb97fd27",
   "metadata": {},
   "outputs": [],
   "source": []
  },
  {
   "cell_type": "code",
   "execution_count": null,
   "id": "e28e279d",
   "metadata": {},
   "outputs": [],
   "source": [
    "import numpy as np\n",
    "np.pi"
   ]
  },
  {
   "cell_type": "code",
   "execution_count": null,
   "id": "fee50bd9",
   "metadata": {},
   "outputs": [],
   "source": [
    "class Circle:\n",
    "    def __init__(self,r):\n",
    "        self.radius = r\n",
    "    def area(self):\n",
    "        return np.pi*self.radius**2\n",
    "    def parimeter(self):\n",
    "        return 2*np.pi*self.radius\n",
    "    "
   ]
  },
  {
   "cell_type": "code",
   "execution_count": null,
   "id": "2a421a3e",
   "metadata": {},
   "outputs": [],
   "source": [
    "circle = Circle(50)\n",
    "circle.area()"
   ]
  },
  {
   "cell_type": "code",
   "execution_count": null,
   "id": "163f0d85",
   "metadata": {},
   "outputs": [],
   "source": [
    "circle.parimeter()\n"
   ]
  },
  {
   "cell_type": "code",
   "execution_count": 66,
   "id": "e0f039b9",
   "metadata": {},
   "outputs": [],
   "source": [
    "# Aggeragation\n",
    "\n",
    "class Customers:\n",
    "    \n",
    "    def __init__(self,name,gender,address):\n",
    "        self.name = name\n",
    "        self.gender = gender\n",
    "        self.address = address\n",
    "        \n",
    "    def edit_profile(self,new_name,new_city,new_pin,new_state):\n",
    "        self.name = new_name\n",
    "        self.address.change_address(new_city,new_pin,new_state)\n",
    "\n",
    "class Adress:\n",
    "    def __init__(self,city,pincode,state):\n",
    "        self.city = city\n",
    "        self.pincode = pincode\n",
    "        self.state = state\n",
    "        \n",
    "    def change_address(self,new_city,new_pin,new_state):\n",
    "        self.city = new_city\n",
    "        self.pincode = new_pin\n",
    "        self.new_state = new_state\n",
    "        \n",
    "\n",
    "\n",
    "        "
   ]
  },
  {
   "cell_type": "code",
   "execution_count": 71,
   "id": "08cb0465",
   "metadata": {},
   "outputs": [
    {
     "data": {
      "text/plain": [
       "421305"
      ]
     },
     "execution_count": 71,
     "metadata": {},
     "output_type": "execute_result"
    }
   ],
   "source": [
    "\n",
    "add = Address(\"Mumbai\",421302,\"Maharashtra\")\n",
    "\n",
    "cust = Customers(\"Nooman\",\"Male\",add)\n",
    "cust.address.pincode\n",
    "cust.edit_profile(\"Ayesha\",\"Mumbai\",421305,\"Mahaeastra\")\n",
    "cust.address.pincode"
   ]
  },
  {
   "cell_type": "markdown",
   "id": "c04b330e",
   "metadata": {},
   "source": [
    "##### Inheretence\n",
    "Code reusibility"
   ]
  },
  {
   "cell_type": "code",
   "execution_count": 72,
   "id": "df6558ad",
   "metadata": {},
   "outputs": [],
   "source": [
    "class User:\n",
    "    def login(self):\n",
    "        print(\"login\")\n",
    "    def register(self):\n",
    "        print(\"Register\")\n",
    "\n",
    "class Student(User):\n",
    "    def enroll(self):\n",
    "        print(\"Enroll\")\n",
    "    def review(self):\n",
    "        print(\"Review\")\n",
    "    "
   ]
  },
  {
   "cell_type": "code",
   "execution_count": 77,
   "id": "fba9173e",
   "metadata": {},
   "outputs": [
    {
     "name": "stdout",
     "output_type": "stream",
     "text": [
      "login\n",
      "Register\n",
      "Enroll\n",
      "Review\n"
     ]
    }
   ],
   "source": [
    "stu = Student()\n",
    "stu.login()\n",
    "stu.register()\n",
    "stu.enroll()\n",
    "stu.review()\n"
   ]
  },
  {
   "cell_type": "code",
   "execution_count": 78,
   "id": "17ef2a3c",
   "metadata": {},
   "outputs": [],
   "source": [
    "# accesss parent's constructer in child class \n",
    "class Phone:\n",
    "    def __init__(self,price,brand,cemra):\n",
    "        self.price = price\n",
    "        self.brand = brand\n",
    "        self.cemra = cemra\n",
    "class Smartphone(Phone):\n",
    "    pass\n"
   ]
  },
  {
   "cell_type": "code",
   "execution_count": 81,
   "id": "6225d169",
   "metadata": {},
   "outputs": [
    {
     "data": {
      "text/plain": [
       "20000"
      ]
     },
     "execution_count": 81,
     "metadata": {},
     "output_type": "execute_result"
    }
   ],
   "source": [
    "smp = Smartphone(20000,\"Iphone\",\"50MP\")\n",
    "smp.price"
   ]
  },
  {
   "cell_type": "code",
   "execution_count": 82,
   "id": "025c836c",
   "metadata": {},
   "outputs": [],
   "source": [
    "# accesss parent's constructer in child class but we can not access private attribute\n",
    "class Phone:\n",
    "    def __init__(self,price,brand,cemra):\n",
    "        self.price = price\n",
    "        self.__brand = brand\n",
    "        self.cemra = cemra\n",
    "class Smartphone(Phone):\n",
    "    pass\n"
   ]
  },
  {
   "cell_type": "code",
   "execution_count": 83,
   "id": "c610e8fd",
   "metadata": {},
   "outputs": [
    {
     "ename": "AttributeError",
     "evalue": "'Smartphone' object has no attribute '__brand'",
     "output_type": "error",
     "traceback": [
      "\u001b[1;31m---------------------------------------------------------------------------\u001b[0m",
      "\u001b[1;31mAttributeError\u001b[0m                            Traceback (most recent call last)",
      "Cell \u001b[1;32mIn[83], line 2\u001b[0m\n\u001b[0;32m      1\u001b[0m smp \u001b[38;5;241m=\u001b[39m Smartphone(\u001b[38;5;241m20000\u001b[39m,\u001b[38;5;124m\"\u001b[39m\u001b[38;5;124mIphone\u001b[39m\u001b[38;5;124m\"\u001b[39m,\u001b[38;5;124m\"\u001b[39m\u001b[38;5;124m50MP\u001b[39m\u001b[38;5;124m\"\u001b[39m)\n\u001b[1;32m----> 2\u001b[0m \u001b[43msmp\u001b[49m\u001b[38;5;241;43m.\u001b[39;49m\u001b[43m__brand\u001b[49m\n",
      "\u001b[1;31mAttributeError\u001b[0m: 'Smartphone' object has no attribute '__brand'"
     ]
    }
   ],
   "source": [
    "smp = Smartphone(20000,\"Iphone\",\"50MP\")\n",
    "smp.__brand"
   ]
  },
  {
   "cell_type": "markdown",
   "id": "78bd3782",
   "metadata": {},
   "source": [
    "##### Polymorphism\n",
    "\n",
    "Method Overriding\n",
    "\n",
    "Method Overloading\n",
    "\n",
    "Operator overloading"
   ]
  },
  {
   "cell_type": "code",
   "execution_count": 84,
   "id": "f54d2321",
   "metadata": {},
   "outputs": [],
   "source": [
    "# Method over riding -- if same method in both parent and child class if we make object from \n",
    "# child class and call that method child's class method excuted\n",
    "\n",
    "class Phone:\n",
    "    def __init__(self,price,brand,cemra):\n",
    "        self.price = price\n",
    "        self.brand = brand\n",
    "        self.cemra = cemra\n",
    "    def buy(self):\n",
    "        print(\"phone\")\n",
    "        \n",
    "class Smartphone(Phone):\n",
    "    def buy(self):\n",
    "        print(\"Smartphone\")\n",
    "        \n",
    "    \n"
   ]
  },
  {
   "cell_type": "code",
   "execution_count": 85,
   "id": "3f61dbbc",
   "metadata": {},
   "outputs": [
    {
     "name": "stdout",
     "output_type": "stream",
     "text": [
      "Smartphone\n"
     ]
    }
   ],
   "source": [
    "smp = Smartphone(20000,\"Iphone\",\"50MP\")\n",
    "smp.buy()"
   ]
  },
  {
   "cell_type": "code",
   "execution_count": null,
   "id": "43aabf4d",
   "metadata": {},
   "outputs": [],
   "source": [
    "# If child class have constructer then its not going to envoke parent cunstructer\n"
   ]
  },
  {
   "cell_type": "code",
   "execution_count": 87,
   "id": "576a85c2",
   "metadata": {},
   "outputs": [],
   "source": [
    "class Phone:\n",
    "    def __init__(self,price,brand,cemra):\n",
    "        self.price = price\n",
    "        self.brand = brand\n",
    "        self.cemra = cemra\n",
    "    def buy(self):\n",
    "        print(\"phone\")\n",
    "class Smartphone(Phone):\n",
    "    def __init__(self,Ram):\n",
    "        self.RAM = Ram\n",
    "              \n",
    "    def buy(self):\n",
    "        print(\"Smartphone\")"
   ]
  },
  {
   "cell_type": "code",
   "execution_count": 90,
   "id": "036fa818",
   "metadata": {},
   "outputs": [
    {
     "data": {
      "text/plain": [
       "'6GB'"
      ]
     },
     "execution_count": 90,
     "metadata": {},
     "output_type": "execute_result"
    }
   ],
   "source": [
    "phone = Smartphone(\"6GB\")\n",
    "phone.RAM"
   ]
  },
  {
   "cell_type": "code",
   "execution_count": 91,
   "id": "62a69fcc",
   "metadata": {},
   "outputs": [],
   "source": [
    "# Super keyboard\n",
    "# with the help of super() keyboard we can invoke parent's constructer along with child constructer"
   ]
  },
  {
   "cell_type": "code",
   "execution_count": 93,
   "id": "f7cf1ca1",
   "metadata": {},
   "outputs": [],
   "source": [
    "class Phone:\n",
    "    def __init__(self,price,brand,cemra):\n",
    "        self.price = price\n",
    "        self.brand = brand\n",
    "        self.cemra = cemra\n",
    "    def buy(self):\n",
    "        print(\"phone\")\n",
    "        \n",
    "class Smartphone(Phone):\n",
    "    def buy(self):\n",
    "        print(\"Smartphone\")\n",
    "        super().buy()\n"
   ]
  },
  {
   "cell_type": "code",
   "execution_count": 94,
   "id": "291771a8",
   "metadata": {},
   "outputs": [
    {
     "name": "stdout",
     "output_type": "stream",
     "text": [
      "Smartphone\n",
      "phone\n"
     ]
    }
   ],
   "source": [
    "smp = Smartphone(20000,\"Iphone\",\"50MP\")\n",
    "smp.buy()"
   ]
  },
  {
   "cell_type": "code",
   "execution_count": 95,
   "id": "77bcdfe5",
   "metadata": {},
   "outputs": [
    {
     "ename": "TypeError",
     "evalue": "area() missing 1 required positional argument: 'b'",
     "output_type": "error",
     "traceback": [
      "\u001b[1;31m---------------------------------------------------------------------------\u001b[0m",
      "\u001b[1;31mTypeError\u001b[0m                                 Traceback (most recent call last)",
      "Cell \u001b[1;32mIn[95], line 7\u001b[0m\n\u001b[0;32m      5\u001b[0m         \u001b[38;5;28;01mreturn\u001b[39;00m l\u001b[38;5;241m*\u001b[39mb\n\u001b[0;32m      6\u001b[0m area \u001b[38;5;241m=\u001b[39m Geometry()\n\u001b[1;32m----> 7\u001b[0m \u001b[43marea\u001b[49m\u001b[38;5;241;43m.\u001b[39;49m\u001b[43marea\u001b[49m\u001b[43m(\u001b[49m\u001b[38;5;241;43m5\u001b[39;49m\u001b[43m)\u001b[49m\n",
      "\u001b[1;31mTypeError\u001b[0m: area() missing 1 required positional argument: 'b'"
     ]
    }
   ],
   "source": [
    "# Method Overloading\n",
    "class Geometry:\n",
    "    def area(self,radius):\n",
    "        return 3.14*radius**2\n",
    "    def area(self,l,b):\n",
    "        return l*b\n",
    "area = Geometry()\n",
    "area.area(5)"
   ]
  },
  {
   "cell_type": "code",
   "execution_count": 98,
   "id": "b1723479",
   "metadata": {},
   "outputs": [
    {
     "name": "stdout",
     "output_type": "stream",
     "text": [
      "Rectengular 25\n"
     ]
    }
   ],
   "source": [
    "# Method overloading\n",
    "class Geometry:\n",
    "    def area(self,a,b=0):\n",
    "        if b==0:\n",
    "            print(\"Circle\",3.14*a**2)\n",
    "        else:\n",
    "            print(\"Rectengular\" , a*b)\n",
    "area = Geometry()\n",
    "area.area(5,5)"
   ]
  },
  {
   "cell_type": "code",
   "execution_count": null,
   "id": "bafb5df1",
   "metadata": {},
   "outputs": [],
   "source": [
    "# Operator loading\n"
   ]
  },
  {
   "cell_type": "code",
   "execution_count": 4,
   "id": "700c653f",
   "metadata": {},
   "outputs": [
    {
     "data": {
      "text/plain": [
       "[(0, 1), (1, 2), (2, 3), (3, 4)]"
      ]
     },
     "execution_count": 4,
     "metadata": {},
     "output_type": "execute_result"
    }
   ],
   "source": [
    "list(enumerate([1,2,3,4]))"
   ]
  },
  {
   "cell_type": "raw",
   "id": "06ef75c3",
   "metadata": {},
   "source": [
    "\n",
    "        \n",
    "        dqd/"
   ]
  },
  {
   "cell_type": "code",
   "execution_count": 50,
   "id": "5f2d8b6b",
   "metadata": {},
   "outputs": [],
   "source": [
    "\n",
    "# \n",
    "import numpy as np\n",
    "class Geometry:\n",
    "    def __init__(self,r=0,l=0,b=0,h=0):\n",
    "        self.radius = r\n",
    "        self.length = l\n",
    "        self.bredth = b\n",
    "        self.hieght = h\n",
    "        \n",
    "class Circle(Geometry):\n",
    "    def area(self):\n",
    "        return np.pi*self.radius**2\n",
    "    def parimeter(self):\n",
    "        return 2*np.pi*self.radius\n",
    "    def dia(self):\n",
    "        return 2*self.radius\n",
    "    \n",
    "class Rectangle(Geometry):\n",
    "    def area(self):\n",
    "        return self.length*self.bredth\n",
    "    def parimeter(self):\n",
    "        return 2*(self.length+self.bredth)\n",
    "    \n",
    "class Triangle(Geometry):\n",
    "    def area(self):\n",
    "        return 0.5*self.bredth*self.hieght\n",
    "    def parimeter(self):\n",
    "        return self.bredth+self.hieght+self.length\n",
    "    \n",
    "class Cylinder(Geometry):\n",
    "    \n",
    "    def total_surface_area(self):\n",
    "        return 2*np.pi*self.radius*(self.radius+self.hieght)\n",
    "    def Curved_surface_area(self):\n",
    "        return 2*np.pi*self.radius*self.hight\n",
    "    def volume(self):\n",
    "        return np.pi*self.radius**2*self.hieght\n",
    "    \n",
    "class Cone(Geometry):\n",
    "    def slant_hiegh(self):\n",
    "        return np.sqrt(self.radius**2+self.hieght**2)\n",
    "    def volume(self):\n",
    "        return 1/3*np.pi*self.radius**2*self.hieght\n",
    "    def total_surface_area(self):\n",
    "        return np.pie*self.radius*self.hieght+np.pie*self.radius**2\n",
    "    def area(self):\n",
    "        return np.pi*self.radius*(self.hieght+self.radius)\n",
    "    \n"
   ]
  },
  {
   "cell_type": "code",
   "execution_count": 22,
   "id": "e20f8a5d",
   "metadata": {},
   "outputs": [
    {
     "data": {
      "text/plain": [
       "31.41592653589793"
      ]
     },
     "execution_count": 22,
     "metadata": {},
     "output_type": "execute_result"
    }
   ],
   "source": [
    "c = Circle(5)\n",
    "c.area()\n",
    "c.parimeter()"
   ]
  },
  {
   "cell_type": "code",
   "execution_count": 24,
   "id": "9f4e9f84",
   "metadata": {},
   "outputs": [
    {
     "data": {
      "text/plain": [
       "157.07963267948966"
      ]
     },
     "execution_count": 24,
     "metadata": {},
     "output_type": "execute_result"
    }
   ],
   "source": [
    "cone = Cone(r = 5,h = 5)\n",
    "cone.area()"
   ]
  },
  {
   "cell_type": "code",
   "execution_count": null,
   "id": "517726ab",
   "metadata": {},
   "outputs": [],
   "source": []
  }
 ],
 "metadata": {
  "kernelspec": {
   "display_name": "Python 3 (ipykernel)",
   "language": "python",
   "name": "python3"
  },
  "language_info": {
   "codemirror_mode": {
    "name": "ipython",
    "version": 3
   },
   "file_extension": ".py",
   "mimetype": "text/x-python",
   "name": "python",
   "nbconvert_exporter": "python",
   "pygments_lexer": "ipython3",
   "version": "3.9.12"
  }
 },
 "nbformat": 4,
 "nbformat_minor": 5
}
